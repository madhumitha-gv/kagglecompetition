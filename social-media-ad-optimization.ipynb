{
 "cells": [
  {
   "cell_type": "code",
   "execution_count": 1,
   "id": "c4ae31e1",
   "metadata": {
    "_cell_guid": "b1076dfc-b9ad-4769-8c92-a6c4dae69d19",
    "_uuid": "8f2839f25d086af736a60e9eeb907d3b93b6e0e5",
    "execution": {
     "iopub.execute_input": "2025-08-22T03:01:13.475992Z",
     "iopub.status.busy": "2025-08-22T03:01:13.475507Z",
     "iopub.status.idle": "2025-08-22T03:01:15.534445Z",
     "shell.execute_reply": "2025-08-22T03:01:15.533208Z"
    },
    "papermill": {
     "duration": 2.068951,
     "end_time": "2025-08-22T03:01:15.537073",
     "exception": false,
     "start_time": "2025-08-22T03:01:13.468122",
     "status": "completed"
    },
    "tags": []
   },
   "outputs": [
    {
     "name": "stdout",
     "output_type": "stream",
     "text": [
      "/kaggle/input/social-media-ad-dataset/social_media_ad_optimization.csv\n"
     ]
    }
   ],
   "source": [
    "# This Python 3 environment comes with many helpful analytics libraries installed\n",
    "# It is defined by the kaggle/python Docker image: https://github.com/kaggle/docker-python\n",
    "# For example, here's several helpful packages to load\n",
    "\n",
    "import numpy as np # linear algebra\n",
    "import pandas as pd # data processing, CSV file I/O (e.g. pd.read_csv)\n",
    "\n",
    "# Input data files are available in the read-only \"../input/\" directory\n",
    "# For example, running this (by clicking run or pressing Shift+Enter) will list all files under the input directory\n",
    "\n",
    "import os\n",
    "for dirname, _, filenames in os.walk('/kaggle/input'):\n",
    "    for filename in filenames:\n",
    "        print(os.path.join(dirname, filename))\n",
    "\n",
    "# You can write up to 20GB to the current directory (/kaggle/working/) that gets preserved as output when you create a version using \"Save & Run All\" \n",
    "# You can also write temporary files to /kaggle/temp/, but they won't be saved outside of the current session"
   ]
  },
  {
   "cell_type": "markdown",
   "id": "aa81eb27",
   "metadata": {
    "papermill": {
     "duration": 0.004995,
     "end_time": "2025-08-22T03:01:15.551592",
     "exception": false,
     "start_time": "2025-08-22T03:01:15.546597",
     "status": "completed"
    },
    "tags": []
   },
   "source": [
    "# Predict ad engagement & conversions and\n",
    "# Optimize delivery strategies for higher ROI."
   ]
  },
  {
   "cell_type": "code",
   "execution_count": 2,
   "id": "3e676770",
   "metadata": {
    "execution": {
     "iopub.execute_input": "2025-08-22T03:01:15.564669Z",
     "iopub.status.busy": "2025-08-22T03:01:15.563877Z",
     "iopub.status.idle": "2025-08-22T03:01:15.590334Z",
     "shell.execute_reply": "2025-08-22T03:01:15.589303Z"
    },
    "papermill": {
     "duration": 0.035302,
     "end_time": "2025-08-22T03:01:15.591826",
     "exception": false,
     "start_time": "2025-08-22T03:01:15.556524",
     "status": "completed"
    },
    "tags": []
   },
   "outputs": [],
   "source": [
    "import pandas as pd\n",
    "train=pd.read_csv('/kaggle/input/social-media-ad-dataset/social_media_ad_optimization.csv')"
   ]
  },
  {
   "cell_type": "code",
   "execution_count": 3,
   "id": "8a1118c7",
   "metadata": {
    "execution": {
     "iopub.execute_input": "2025-08-22T03:01:15.603281Z",
     "iopub.status.busy": "2025-08-22T03:01:15.602983Z",
     "iopub.status.idle": "2025-08-22T03:01:15.631579Z",
     "shell.execute_reply": "2025-08-22T03:01:15.630827Z"
    },
    "papermill": {
     "duration": 0.036315,
     "end_time": "2025-08-22T03:01:15.633240",
     "exception": false,
     "start_time": "2025-08-22T03:01:15.596925",
     "status": "completed"
    },
    "tags": []
   },
   "outputs": [
    {
     "data": {
      "text/html": [
       "<div>\n",
       "<style scoped>\n",
       "    .dataframe tbody tr th:only-of-type {\n",
       "        vertical-align: middle;\n",
       "    }\n",
       "\n",
       "    .dataframe tbody tr th {\n",
       "        vertical-align: top;\n",
       "    }\n",
       "\n",
       "    .dataframe thead th {\n",
       "        text-align: right;\n",
       "    }\n",
       "</style>\n",
       "<table border=\"1\" class=\"dataframe\">\n",
       "  <thead>\n",
       "    <tr style=\"text-align: right;\">\n",
       "      <th></th>\n",
       "      <th>user_id</th>\n",
       "      <th>age</th>\n",
       "      <th>gender</th>\n",
       "      <th>location</th>\n",
       "      <th>interests</th>\n",
       "      <th>ad_id</th>\n",
       "      <th>ad_category</th>\n",
       "      <th>ad_platform</th>\n",
       "      <th>ad_type</th>\n",
       "      <th>impressions</th>\n",
       "      <th>clicks</th>\n",
       "      <th>conversion</th>\n",
       "      <th>time_spent_on_ad</th>\n",
       "      <th>day_of_week</th>\n",
       "      <th>device_type</th>\n",
       "      <th>engagement_score</th>\n",
       "    </tr>\n",
       "  </thead>\n",
       "  <tbody>\n",
       "    <tr>\n",
       "      <th>0</th>\n",
       "      <td>U0001</td>\n",
       "      <td>58</td>\n",
       "      <td>M</td>\n",
       "      <td>USA</td>\n",
       "      <td>Food</td>\n",
       "      <td>A0001</td>\n",
       "      <td>Sportswear</td>\n",
       "      <td>Facebook</td>\n",
       "      <td>Image</td>\n",
       "      <td>3</td>\n",
       "      <td>0</td>\n",
       "      <td>0</td>\n",
       "      <td>3.38</td>\n",
       "      <td>Friday</td>\n",
       "      <td>Mobile</td>\n",
       "      <td>0.02</td>\n",
       "    </tr>\n",
       "    <tr>\n",
       "      <th>1</th>\n",
       "      <td>U0002</td>\n",
       "      <td>55</td>\n",
       "      <td>F</td>\n",
       "      <td>USA</td>\n",
       "      <td>Tech</td>\n",
       "      <td>A0002</td>\n",
       "      <td>Electronics</td>\n",
       "      <td>Facebook</td>\n",
       "      <td>Image</td>\n",
       "      <td>9</td>\n",
       "      <td>9</td>\n",
       "      <td>1</td>\n",
       "      <td>6.77</td>\n",
       "      <td>Saturday</td>\n",
       "      <td>Tablet</td>\n",
       "      <td>0.93</td>\n",
       "    </tr>\n",
       "    <tr>\n",
       "      <th>2</th>\n",
       "      <td>U0003</td>\n",
       "      <td>52</td>\n",
       "      <td>F</td>\n",
       "      <td>UK</td>\n",
       "      <td>Gaming</td>\n",
       "      <td>A0003</td>\n",
       "      <td>Luggage</td>\n",
       "      <td>Instagram</td>\n",
       "      <td>Image</td>\n",
       "      <td>13</td>\n",
       "      <td>12</td>\n",
       "      <td>1</td>\n",
       "      <td>13.26</td>\n",
       "      <td>Wednesday</td>\n",
       "      <td>Mobile</td>\n",
       "      <td>0.93</td>\n",
       "    </tr>\n",
       "    <tr>\n",
       "      <th>3</th>\n",
       "      <td>U0004</td>\n",
       "      <td>31</td>\n",
       "      <td>F</td>\n",
       "      <td>USA</td>\n",
       "      <td>Tech</td>\n",
       "      <td>A0004</td>\n",
       "      <td>Gadgets</td>\n",
       "      <td>Facebook</td>\n",
       "      <td>Video</td>\n",
       "      <td>14</td>\n",
       "      <td>5</td>\n",
       "      <td>0</td>\n",
       "      <td>24.41</td>\n",
       "      <td>Saturday</td>\n",
       "      <td>Desktop</td>\n",
       "      <td>0.28</td>\n",
       "    </tr>\n",
       "    <tr>\n",
       "      <th>4</th>\n",
       "      <td>U0005</td>\n",
       "      <td>52</td>\n",
       "      <td>M</td>\n",
       "      <td>India</td>\n",
       "      <td>Tech</td>\n",
       "      <td>A0005</td>\n",
       "      <td>Luggage</td>\n",
       "      <td>Instagram</td>\n",
       "      <td>Carousel</td>\n",
       "      <td>10</td>\n",
       "      <td>5</td>\n",
       "      <td>0</td>\n",
       "      <td>21.43</td>\n",
       "      <td>Monday</td>\n",
       "      <td>Tablet</td>\n",
       "      <td>0.35</td>\n",
       "    </tr>\n",
       "  </tbody>\n",
       "</table>\n",
       "</div>"
      ],
      "text/plain": [
       "  user_id  age gender location interests  ad_id  ad_category ad_platform  \\\n",
       "0   U0001   58      M      USA      Food  A0001   Sportswear    Facebook   \n",
       "1   U0002   55      F      USA      Tech  A0002  Electronics    Facebook   \n",
       "2   U0003   52      F       UK    Gaming  A0003      Luggage   Instagram   \n",
       "3   U0004   31      F      USA      Tech  A0004      Gadgets    Facebook   \n",
       "4   U0005   52      M    India      Tech  A0005      Luggage   Instagram   \n",
       "\n",
       "    ad_type  impressions  clicks  conversion  time_spent_on_ad day_of_week  \\\n",
       "0     Image            3       0           0              3.38      Friday   \n",
       "1     Image            9       9           1              6.77    Saturday   \n",
       "2     Image           13      12           1             13.26   Wednesday   \n",
       "3     Video           14       5           0             24.41    Saturday   \n",
       "4  Carousel           10       5           0             21.43      Monday   \n",
       "\n",
       "  device_type  engagement_score  \n",
       "0      Mobile              0.02  \n",
       "1      Tablet              0.93  \n",
       "2      Mobile              0.93  \n",
       "3     Desktop              0.28  \n",
       "4      Tablet              0.35  "
      ]
     },
     "execution_count": 3,
     "metadata": {},
     "output_type": "execute_result"
    }
   ],
   "source": [
    "train.head(5)"
   ]
  },
  {
   "cell_type": "code",
   "execution_count": 4,
   "id": "27ef17b7",
   "metadata": {
    "execution": {
     "iopub.execute_input": "2025-08-22T03:01:15.644355Z",
     "iopub.status.busy": "2025-08-22T03:01:15.644098Z",
     "iopub.status.idle": "2025-08-22T03:01:15.670196Z",
     "shell.execute_reply": "2025-08-22T03:01:15.668780Z"
    },
    "papermill": {
     "duration": 0.033652,
     "end_time": "2025-08-22T03:01:15.671733",
     "exception": false,
     "start_time": "2025-08-22T03:01:15.638081",
     "status": "completed"
    },
    "tags": []
   },
   "outputs": [
    {
     "name": "stdout",
     "output_type": "stream",
     "text": [
      "<class 'pandas.core.frame.DataFrame'>\n",
      "RangeIndex: 500 entries, 0 to 499\n",
      "Data columns (total 16 columns):\n",
      " #   Column            Non-Null Count  Dtype  \n",
      "---  ------            --------------  -----  \n",
      " 0   user_id           500 non-null    object \n",
      " 1   age               500 non-null    int64  \n",
      " 2   gender            500 non-null    object \n",
      " 3   location          500 non-null    object \n",
      " 4   interests         500 non-null    object \n",
      " 5   ad_id             500 non-null    object \n",
      " 6   ad_category       500 non-null    object \n",
      " 7   ad_platform       500 non-null    object \n",
      " 8   ad_type           500 non-null    object \n",
      " 9   impressions       500 non-null    int64  \n",
      " 10  clicks            500 non-null    int64  \n",
      " 11  conversion        500 non-null    int64  \n",
      " 12  time_spent_on_ad  500 non-null    float64\n",
      " 13  day_of_week       500 non-null    object \n",
      " 14  device_type       500 non-null    object \n",
      " 15  engagement_score  500 non-null    float64\n",
      "dtypes: float64(2), int64(4), object(10)\n",
      "memory usage: 62.6+ KB\n"
     ]
    }
   ],
   "source": [
    "train.info()"
   ]
  },
  {
   "cell_type": "code",
   "execution_count": 5,
   "id": "8bd4a78a",
   "metadata": {
    "execution": {
     "iopub.execute_input": "2025-08-22T03:01:15.682360Z",
     "iopub.status.busy": "2025-08-22T03:01:15.682101Z",
     "iopub.status.idle": "2025-08-22T03:01:15.710064Z",
     "shell.execute_reply": "2025-08-22T03:01:15.709062Z"
    },
    "papermill": {
     "duration": 0.035041,
     "end_time": "2025-08-22T03:01:15.711571",
     "exception": false,
     "start_time": "2025-08-22T03:01:15.676530",
     "status": "completed"
    },
    "tags": []
   },
   "outputs": [
    {
     "data": {
      "text/html": [
       "<div>\n",
       "<style scoped>\n",
       "    .dataframe tbody tr th:only-of-type {\n",
       "        vertical-align: middle;\n",
       "    }\n",
       "\n",
       "    .dataframe tbody tr th {\n",
       "        vertical-align: top;\n",
       "    }\n",
       "\n",
       "    .dataframe thead th {\n",
       "        text-align: right;\n",
       "    }\n",
       "</style>\n",
       "<table border=\"1\" class=\"dataframe\">\n",
       "  <thead>\n",
       "    <tr style=\"text-align: right;\">\n",
       "      <th></th>\n",
       "      <th>age</th>\n",
       "      <th>impressions</th>\n",
       "      <th>clicks</th>\n",
       "      <th>conversion</th>\n",
       "      <th>time_spent_on_ad</th>\n",
       "      <th>engagement_score</th>\n",
       "    </tr>\n",
       "  </thead>\n",
       "  <tbody>\n",
       "    <tr>\n",
       "      <th>count</th>\n",
       "      <td>500.000000</td>\n",
       "      <td>500.000000</td>\n",
       "      <td>500.000000</td>\n",
       "      <td>500.000000</td>\n",
       "      <td>500.000000</td>\n",
       "      <td>500.000000</td>\n",
       "    </tr>\n",
       "    <tr>\n",
       "      <th>mean</th>\n",
       "      <td>39.410000</td>\n",
       "      <td>8.282000</td>\n",
       "      <td>4.520000</td>\n",
       "      <td>0.470000</td>\n",
       "      <td>14.072300</td>\n",
       "      <td>0.520220</td>\n",
       "    </tr>\n",
       "    <tr>\n",
       "      <th>std</th>\n",
       "      <td>12.400219</td>\n",
       "      <td>4.217351</td>\n",
       "      <td>3.727383</td>\n",
       "      <td>0.499599</td>\n",
       "      <td>9.088768</td>\n",
       "      <td>0.306296</td>\n",
       "    </tr>\n",
       "    <tr>\n",
       "      <th>min</th>\n",
       "      <td>18.000000</td>\n",
       "      <td>1.000000</td>\n",
       "      <td>0.000000</td>\n",
       "      <td>0.000000</td>\n",
       "      <td>0.460000</td>\n",
       "      <td>0.000000</td>\n",
       "    </tr>\n",
       "    <tr>\n",
       "      <th>25%</th>\n",
       "      <td>28.000000</td>\n",
       "      <td>4.750000</td>\n",
       "      <td>1.000000</td>\n",
       "      <td>0.000000</td>\n",
       "      <td>4.990000</td>\n",
       "      <td>0.270000</td>\n",
       "    </tr>\n",
       "    <tr>\n",
       "      <th>50%</th>\n",
       "      <td>39.000000</td>\n",
       "      <td>9.000000</td>\n",
       "      <td>4.000000</td>\n",
       "      <td>0.000000</td>\n",
       "      <td>13.285000</td>\n",
       "      <td>0.550000</td>\n",
       "    </tr>\n",
       "    <tr>\n",
       "      <th>75%</th>\n",
       "      <td>51.000000</td>\n",
       "      <td>12.000000</td>\n",
       "      <td>7.000000</td>\n",
       "      <td>1.000000</td>\n",
       "      <td>21.732500</td>\n",
       "      <td>0.772500</td>\n",
       "    </tr>\n",
       "    <tr>\n",
       "      <th>max</th>\n",
       "      <td>60.000000</td>\n",
       "      <td>15.000000</td>\n",
       "      <td>15.000000</td>\n",
       "      <td>1.000000</td>\n",
       "      <td>29.950000</td>\n",
       "      <td>1.000000</td>\n",
       "    </tr>\n",
       "  </tbody>\n",
       "</table>\n",
       "</div>"
      ],
      "text/plain": [
       "              age  impressions      clicks  conversion  time_spent_on_ad  \\\n",
       "count  500.000000   500.000000  500.000000  500.000000        500.000000   \n",
       "mean    39.410000     8.282000    4.520000    0.470000         14.072300   \n",
       "std     12.400219     4.217351    3.727383    0.499599          9.088768   \n",
       "min     18.000000     1.000000    0.000000    0.000000          0.460000   \n",
       "25%     28.000000     4.750000    1.000000    0.000000          4.990000   \n",
       "50%     39.000000     9.000000    4.000000    0.000000         13.285000   \n",
       "75%     51.000000    12.000000    7.000000    1.000000         21.732500   \n",
       "max     60.000000    15.000000   15.000000    1.000000         29.950000   \n",
       "\n",
       "       engagement_score  \n",
       "count        500.000000  \n",
       "mean           0.520220  \n",
       "std            0.306296  \n",
       "min            0.000000  \n",
       "25%            0.270000  \n",
       "50%            0.550000  \n",
       "75%            0.772500  \n",
       "max            1.000000  "
      ]
     },
     "execution_count": 5,
     "metadata": {},
     "output_type": "execute_result"
    }
   ],
   "source": [
    "train.describe()"
   ]
  },
  {
   "cell_type": "code",
   "execution_count": 6,
   "id": "90afb6a8",
   "metadata": {
    "execution": {
     "iopub.execute_input": "2025-08-22T03:01:15.724506Z",
     "iopub.status.busy": "2025-08-22T03:01:15.724165Z",
     "iopub.status.idle": "2025-08-22T03:01:15.730867Z",
     "shell.execute_reply": "2025-08-22T03:01:15.729703Z"
    },
    "papermill": {
     "duration": 0.015611,
     "end_time": "2025-08-22T03:01:15.732651",
     "exception": false,
     "start_time": "2025-08-22T03:01:15.717040",
     "status": "completed"
    },
    "tags": []
   },
   "outputs": [
    {
     "data": {
      "text/plain": [
       "(500, 16)"
      ]
     },
     "execution_count": 6,
     "metadata": {},
     "output_type": "execute_result"
    }
   ],
   "source": [
    "train.shape"
   ]
  },
  {
   "cell_type": "code",
   "execution_count": 7,
   "id": "d2e6e7d1",
   "metadata": {
    "execution": {
     "iopub.execute_input": "2025-08-22T03:01:15.744967Z",
     "iopub.status.busy": "2025-08-22T03:01:15.744675Z",
     "iopub.status.idle": "2025-08-22T03:01:15.753172Z",
     "shell.execute_reply": "2025-08-22T03:01:15.752186Z"
    },
    "papermill": {
     "duration": 0.016925,
     "end_time": "2025-08-22T03:01:15.754655",
     "exception": false,
     "start_time": "2025-08-22T03:01:15.737730",
     "status": "completed"
    },
    "tags": []
   },
   "outputs": [
    {
     "data": {
      "text/plain": [
       "gender\n",
       "M        0.356\n",
       "Other    0.338\n",
       "F        0.306\n",
       "Name: proportion, dtype: float64"
      ]
     },
     "execution_count": 7,
     "metadata": {},
     "output_type": "execute_result"
    }
   ],
   "source": [
    "train['gender'].value_counts(normalize=True)"
   ]
  },
  {
   "cell_type": "code",
   "execution_count": 8,
   "id": "6e274128",
   "metadata": {
    "execution": {
     "iopub.execute_input": "2025-08-22T03:01:15.766332Z",
     "iopub.status.busy": "2025-08-22T03:01:15.766012Z",
     "iopub.status.idle": "2025-08-22T03:01:15.774218Z",
     "shell.execute_reply": "2025-08-22T03:01:15.773378Z"
    },
    "papermill": {
     "duration": 0.015773,
     "end_time": "2025-08-22T03:01:15.775744",
     "exception": false,
     "start_time": "2025-08-22T03:01:15.759971",
     "status": "completed"
    },
    "tags": []
   },
   "outputs": [
    {
     "data": {
      "text/plain": [
       "ad_platform\n",
       "Instagram    0.508\n",
       "Facebook     0.492\n",
       "Name: proportion, dtype: float64"
      ]
     },
     "execution_count": 8,
     "metadata": {},
     "output_type": "execute_result"
    }
   ],
   "source": [
    "train['ad_platform'].value_counts(normalize=True)"
   ]
  },
  {
   "cell_type": "code",
   "execution_count": 9,
   "id": "7df7935c",
   "metadata": {
    "execution": {
     "iopub.execute_input": "2025-08-22T03:01:15.788207Z",
     "iopub.status.busy": "2025-08-22T03:01:15.787382Z",
     "iopub.status.idle": "2025-08-22T03:01:15.795659Z",
     "shell.execute_reply": "2025-08-22T03:01:15.794916Z"
    },
    "papermill": {
     "duration": 0.016337,
     "end_time": "2025-08-22T03:01:15.797299",
     "exception": false,
     "start_time": "2025-08-22T03:01:15.780962",
     "status": "completed"
    },
    "tags": []
   },
   "outputs": [
    {
     "data": {
      "text/plain": [
       "ad_type\n",
       "Image       0.356\n",
       "Video       0.336\n",
       "Carousel    0.308\n",
       "Name: proportion, dtype: float64"
      ]
     },
     "execution_count": 9,
     "metadata": {},
     "output_type": "execute_result"
    }
   ],
   "source": [
    "train['ad_type'].value_counts(normalize=True)"
   ]
  },
  {
   "cell_type": "code",
   "execution_count": 10,
   "id": "00b15f49",
   "metadata": {
    "execution": {
     "iopub.execute_input": "2025-08-22T03:01:15.809484Z",
     "iopub.status.busy": "2025-08-22T03:01:15.809185Z",
     "iopub.status.idle": "2025-08-22T03:01:15.816131Z",
     "shell.execute_reply": "2025-08-22T03:01:15.815374Z"
    },
    "papermill": {
     "duration": 0.014826,
     "end_time": "2025-08-22T03:01:15.817789",
     "exception": false,
     "start_time": "2025-08-22T03:01:15.802963",
     "status": "completed"
    },
    "tags": []
   },
   "outputs": [
    {
     "data": {
      "text/plain": [
       "location\n",
       "Australia    0.202\n",
       "Germany      0.196\n",
       "India        0.184\n",
       "Canada       0.150\n",
       "UK           0.144\n",
       "USA          0.124\n",
       "Name: proportion, dtype: float64"
      ]
     },
     "execution_count": 10,
     "metadata": {},
     "output_type": "execute_result"
    }
   ],
   "source": [
    "train['location'].value_counts(normalize=True)"
   ]
  },
  {
   "cell_type": "code",
   "execution_count": 11,
   "id": "f90e0bcc",
   "metadata": {
    "execution": {
     "iopub.execute_input": "2025-08-22T03:01:15.831009Z",
     "iopub.status.busy": "2025-08-22T03:01:15.830586Z",
     "iopub.status.idle": "2025-08-22T03:01:15.840384Z",
     "shell.execute_reply": "2025-08-22T03:01:15.839458Z"
    },
    "papermill": {
     "duration": 0.018626,
     "end_time": "2025-08-22T03:01:15.841842",
     "exception": false,
     "start_time": "2025-08-22T03:01:15.823216",
     "status": "completed"
    },
    "tags": []
   },
   "outputs": [
    {
     "data": {
      "text/plain": [
       "day_of_week\n",
       "Wednesday    0.172\n",
       "Saturday     0.164\n",
       "Sunday       0.152\n",
       "Tuesday      0.146\n",
       "Friday       0.124\n",
       "Thursday     0.122\n",
       "Monday       0.120\n",
       "Name: proportion, dtype: float64"
      ]
     },
     "execution_count": 11,
     "metadata": {},
     "output_type": "execute_result"
    }
   ],
   "source": [
    "train['day_of_week'].value_counts(normalize=True)"
   ]
  },
  {
   "cell_type": "code",
   "execution_count": 12,
   "id": "66315fe2",
   "metadata": {
    "execution": {
     "iopub.execute_input": "2025-08-22T03:01:15.854985Z",
     "iopub.status.busy": "2025-08-22T03:01:15.854713Z",
     "iopub.status.idle": "2025-08-22T03:01:15.863120Z",
     "shell.execute_reply": "2025-08-22T03:01:15.862173Z"
    },
    "papermill": {
     "duration": 0.017195,
     "end_time": "2025-08-22T03:01:15.864771",
     "exception": false,
     "start_time": "2025-08-22T03:01:15.847576",
     "status": "completed"
    },
    "tags": []
   },
   "outputs": [
    {
     "data": {
      "text/plain": [
       "device_type\n",
       "Desktop    0.342\n",
       "Mobile     0.338\n",
       "Tablet     0.320\n",
       "Name: proportion, dtype: float64"
      ]
     },
     "execution_count": 12,
     "metadata": {},
     "output_type": "execute_result"
    }
   ],
   "source": [
    "train['device_type'].value_counts(normalize=True)"
   ]
  },
  {
   "cell_type": "code",
   "execution_count": 13,
   "id": "9618ad23",
   "metadata": {
    "execution": {
     "iopub.execute_input": "2025-08-22T03:01:15.877293Z",
     "iopub.status.busy": "2025-08-22T03:01:15.877016Z",
     "iopub.status.idle": "2025-08-22T03:01:15.884767Z",
     "shell.execute_reply": "2025-08-22T03:01:15.883751Z"
    },
    "papermill": {
     "duration": 0.015497,
     "end_time": "2025-08-22T03:01:15.886260",
     "exception": false,
     "start_time": "2025-08-22T03:01:15.870763",
     "status": "completed"
    },
    "tags": []
   },
   "outputs": [
    {
     "data": {
      "text/plain": [
       "ad_category\n",
       "Gadgets            0.182\n",
       "Electronics        0.176\n",
       "Luggage            0.176\n",
       "Food & Beverage    0.170\n",
       "Apparel            0.152\n",
       "Sportswear         0.144\n",
       "Name: proportion, dtype: float64"
      ]
     },
     "execution_count": 13,
     "metadata": {},
     "output_type": "execute_result"
    }
   ],
   "source": [
    "train['ad_category'].value_counts(normalize=True)"
   ]
  },
  {
   "cell_type": "code",
   "execution_count": 14,
   "id": "f7b7f7cd",
   "metadata": {
    "execution": {
     "iopub.execute_input": "2025-08-22T03:01:15.898360Z",
     "iopub.status.busy": "2025-08-22T03:01:15.898084Z",
     "iopub.status.idle": "2025-08-22T03:01:15.906448Z",
     "shell.execute_reply": "2025-08-22T03:01:15.905539Z"
    },
    "papermill": {
     "duration": 0.016266,
     "end_time": "2025-08-22T03:01:15.908201",
     "exception": false,
     "start_time": "2025-08-22T03:01:15.891935",
     "status": "completed"
    },
    "tags": []
   },
   "outputs": [
    {
     "data": {
      "text/plain": [
       "interests\n",
       "Tech       0.186\n",
       "Travel     0.180\n",
       "Fitness    0.168\n",
       "Food       0.166\n",
       "Gaming     0.156\n",
       "Fashion    0.144\n",
       "Name: proportion, dtype: float64"
      ]
     },
     "execution_count": 14,
     "metadata": {},
     "output_type": "execute_result"
    }
   ],
   "source": [
    "train['interests'].value_counts(normalize=True)"
   ]
  },
  {
   "cell_type": "code",
   "execution_count": 15,
   "id": "7f260a61",
   "metadata": {
    "execution": {
     "iopub.execute_input": "2025-08-22T03:01:15.920994Z",
     "iopub.status.busy": "2025-08-22T03:01:15.920749Z",
     "iopub.status.idle": "2025-08-22T03:01:15.928219Z",
     "shell.execute_reply": "2025-08-22T03:01:15.927037Z"
    },
    "papermill": {
     "duration": 0.015531,
     "end_time": "2025-08-22T03:01:15.929672",
     "exception": false,
     "start_time": "2025-08-22T03:01:15.914141",
     "status": "completed"
    },
    "tags": []
   },
   "outputs": [
    {
     "data": {
      "text/plain": [
       "location\n",
       "Australia    0.202\n",
       "Germany      0.196\n",
       "India        0.184\n",
       "Canada       0.150\n",
       "UK           0.144\n",
       "USA          0.124\n",
       "Name: proportion, dtype: float64"
      ]
     },
     "execution_count": 15,
     "metadata": {},
     "output_type": "execute_result"
    }
   ],
   "source": [
    "train['location'].value_counts(normalize=True)"
   ]
  },
  {
   "cell_type": "code",
   "execution_count": 16,
   "id": "e49219be",
   "metadata": {
    "execution": {
     "iopub.execute_input": "2025-08-22T03:01:15.943327Z",
     "iopub.status.busy": "2025-08-22T03:01:15.942433Z",
     "iopub.status.idle": "2025-08-22T03:01:15.947707Z",
     "shell.execute_reply": "2025-08-22T03:01:15.946721Z"
    },
    "papermill": {
     "duration": 0.013997,
     "end_time": "2025-08-22T03:01:15.949415",
     "exception": false,
     "start_time": "2025-08-22T03:01:15.935418",
     "status": "completed"
    },
    "tags": []
   },
   "outputs": [],
   "source": [
    "train['ctr']=train['clicks']/train['impressions']"
   ]
  },
  {
   "cell_type": "code",
   "execution_count": 17,
   "id": "bcce26f8",
   "metadata": {
    "execution": {
     "iopub.execute_input": "2025-08-22T03:01:15.961988Z",
     "iopub.status.busy": "2025-08-22T03:01:15.961566Z",
     "iopub.status.idle": "2025-08-22T03:01:15.967140Z",
     "shell.execute_reply": "2025-08-22T03:01:15.966316Z"
    },
    "papermill": {
     "duration": 0.013351,
     "end_time": "2025-08-22T03:01:15.968505",
     "exception": false,
     "start_time": "2025-08-22T03:01:15.955154",
     "status": "completed"
    },
    "tags": []
   },
   "outputs": [],
   "source": [
    "train['cvr']=train['conversion']/train['clicks']"
   ]
  },
  {
   "cell_type": "markdown",
   "id": "9e288984",
   "metadata": {
    "papermill": {
     "duration": 0.00602,
     "end_time": "2025-08-22T03:01:15.980462",
     "exception": false,
     "start_time": "2025-08-22T03:01:15.974442",
     "status": "completed"
    },
    "tags": []
   },
   "source": [
    "# CTR by device category"
   ]
  },
  {
   "cell_type": "code",
   "execution_count": 18,
   "id": "135186a4",
   "metadata": {
    "execution": {
     "iopub.execute_input": "2025-08-22T03:01:15.993339Z",
     "iopub.status.busy": "2025-08-22T03:01:15.993062Z",
     "iopub.status.idle": "2025-08-22T03:01:16.004568Z",
     "shell.execute_reply": "2025-08-22T03:01:16.003420Z"
    },
    "papermill": {
     "duration": 0.019855,
     "end_time": "2025-08-22T03:01:16.005940",
     "exception": false,
     "start_time": "2025-08-22T03:01:15.986085",
     "status": "completed"
    },
    "tags": []
   },
   "outputs": [
    {
     "name": "stdout",
     "output_type": "stream",
     "text": [
      "  device_type  clicks  impressions        CTR\n",
      "0     Desktop     735         1413  52.016985\n",
      "1      Mobile     758         1434  52.859135\n",
      "2      Tablet     767         1294  59.273570\n"
     ]
    }
   ],
   "source": [
    "# Group by device_type and aggregate clicks + impressions\n",
    "ctr_devicetype = (\n",
    "    train.groupby('device_type')\n",
    "         .agg({'clicks': 'sum', 'impressions': 'sum'})\n",
    "         .reset_index()\n",
    ")\n",
    "\n",
    "# Compute CTR\n",
    "ctr_devicetype['CTR'] = (ctr_devicetype['clicks'] / ctr_devicetype['impressions']) * 100\n",
    "\n",
    "print(ctr_devicetype)\n"
   ]
  },
  {
   "cell_type": "markdown",
   "id": "e245dec0",
   "metadata": {
    "papermill": {
     "duration": 0.00573,
     "end_time": "2025-08-22T03:01:16.017177",
     "exception": false,
     "start_time": "2025-08-22T03:01:16.011447",
     "status": "completed"
    },
    "tags": []
   },
   "source": [
    "# CTR by device category"
   ]
  },
  {
   "cell_type": "code",
   "execution_count": 19,
   "id": "42422f12",
   "metadata": {
    "execution": {
     "iopub.execute_input": "2025-08-22T03:01:16.029559Z",
     "iopub.status.busy": "2025-08-22T03:01:16.029085Z",
     "iopub.status.idle": "2025-08-22T03:01:16.040642Z",
     "shell.execute_reply": "2025-08-22T03:01:16.039693Z"
    },
    "papermill": {
     "duration": 0.019441,
     "end_time": "2025-08-22T03:01:16.042200",
     "exception": false,
     "start_time": "2025-08-22T03:01:16.022759",
     "status": "completed"
    },
    "tags": []
   },
   "outputs": [
    {
     "name": "stdout",
     "output_type": "stream",
     "text": [
      "       ad_category  clicks  conversion    CVR (%)\n",
      "0          Apparel     322          33  10.248447\n",
      "1      Electronics     420          41   9.761905\n",
      "2  Food & Beverage     314          44  14.012739\n",
      "3          Gadgets     404          39   9.653465\n",
      "4          Luggage     407          38   9.336609\n",
      "5       Sportswear     393          40  10.178117\n"
     ]
    }
   ],
   "source": [
    "cvr_by_category = (\n",
    "    train.groupby('ad_category')\n",
    "         .agg({'clicks': 'sum', 'conversion': 'sum'})\n",
    "         .reset_index()\n",
    ")\n",
    "\n",
    "# Compute CVR\n",
    "cvr_by_category['CVR (%)'] = (cvr_by_category['conversion'] / cvr_by_category['clicks']) * 100\n",
    "\n",
    "print(cvr_by_category)"
   ]
  },
  {
   "cell_type": "markdown",
   "id": "2ccc36f2",
   "metadata": {
    "papermill": {
     "duration": 0.005671,
     "end_time": "2025-08-22T03:01:16.053787",
     "exception": false,
     "start_time": "2025-08-22T03:01:16.048116",
     "status": "completed"
    },
    "tags": []
   },
   "source": [
    "# Engagement by day of week"
   ]
  },
  {
   "cell_type": "code",
   "execution_count": 20,
   "id": "c7314658",
   "metadata": {
    "execution": {
     "iopub.execute_input": "2025-08-22T03:01:16.065848Z",
     "iopub.status.busy": "2025-08-22T03:01:16.065522Z",
     "iopub.status.idle": "2025-08-22T03:01:16.079949Z",
     "shell.execute_reply": "2025-08-22T03:01:16.078128Z"
    },
    "papermill": {
     "duration": 0.022438,
     "end_time": "2025-08-22T03:01:16.081669",
     "exception": false,
     "start_time": "2025-08-22T03:01:16.059231",
     "status": "completed"
    },
    "tags": []
   },
   "outputs": [
    {
     "name": "stdout",
     "output_type": "stream",
     "text": [
      "  day_of_week  engagement_score\n",
      "6   Wednesday          0.566860\n",
      "3      Sunday          0.538421\n",
      "5     Tuesday          0.531507\n",
      "4    Thursday          0.505902\n",
      "1      Monday          0.505167\n",
      "2    Saturday          0.504390\n",
      "0      Friday          0.469516\n"
     ]
    }
   ],
   "source": [
    "# Group by day_of_week and compute mean engagement_score\n",
    "engagement_by_day = (\n",
    "    train.groupby('day_of_week')['engagement_score']\n",
    "         .mean()\n",
    "         .reset_index()\n",
    "         .sort_values('engagement_score', ascending=False)\n",
    ")\n",
    "\n",
    "print(engagement_by_day)\n"
   ]
  },
  {
   "cell_type": "markdown",
   "id": "b2b9eafb",
   "metadata": {
    "execution": {
     "iopub.execute_input": "2025-08-22T02:40:48.735395Z",
     "iopub.status.busy": "2025-08-22T02:40:48.734138Z",
     "iopub.status.idle": "2025-08-22T02:40:48.745344Z",
     "shell.execute_reply": "2025-08-22T02:40:48.743950Z",
     "shell.execute_reply.started": "2025-08-22T02:40:48.735269Z"
    },
    "papermill": {
     "duration": 0.005565,
     "end_time": "2025-08-22T03:01:16.093037",
     "exception": false,
     "start_time": "2025-08-22T03:01:16.087472",
     "status": "completed"
    },
    "tags": []
   },
   "source": [
    "#Step 2: Feature Engineering\n",
    "\n",
    "User Features: average CTR per user, preferred ad category.\n",
    "\n",
    "Ad Features: CTR by category/platform/type.\n",
    "\n",
    "Time Features: weekday vs weekend, time_spent_on_ad bucketed.\n",
    "\n",
    "Interaction Features: age × category (which age groups prefer which ads)."
   ]
  },
  {
   "cell_type": "code",
   "execution_count": 21,
   "id": "a349d877",
   "metadata": {
    "execution": {
     "iopub.execute_input": "2025-08-22T03:01:16.106436Z",
     "iopub.status.busy": "2025-08-22T03:01:16.106122Z",
     "iopub.status.idle": "2025-08-22T03:01:16.123780Z",
     "shell.execute_reply": "2025-08-22T03:01:16.122692Z"
    },
    "papermill": {
     "duration": 0.026052,
     "end_time": "2025-08-22T03:01:16.125275",
     "exception": false,
     "start_time": "2025-08-22T03:01:16.099223",
     "status": "completed"
    },
    "tags": []
   },
   "outputs": [
    {
     "name": "stderr",
     "output_type": "stream",
     "text": [
      "/usr/local/lib/python3.11/dist-packages/pandas/io/formats/format.py:1458: RuntimeWarning: invalid value encountered in greater\n",
      "  has_large_values = (abs_vals > 1e6).any()\n",
      "/usr/local/lib/python3.11/dist-packages/pandas/io/formats/format.py:1459: RuntimeWarning: invalid value encountered in less\n",
      "  has_small_values = ((abs_vals < 10 ** (-self.digits)) & (abs_vals > 0)).any()\n",
      "/usr/local/lib/python3.11/dist-packages/pandas/io/formats/format.py:1459: RuntimeWarning: invalid value encountered in greater\n",
      "  has_small_values = ((abs_vals < 10 ** (-self.digits)) & (abs_vals > 0)).any()\n"
     ]
    },
    {
     "data": {
      "text/html": [
       "<div>\n",
       "<style scoped>\n",
       "    .dataframe tbody tr th:only-of-type {\n",
       "        vertical-align: middle;\n",
       "    }\n",
       "\n",
       "    .dataframe tbody tr th {\n",
       "        vertical-align: top;\n",
       "    }\n",
       "\n",
       "    .dataframe thead th {\n",
       "        text-align: right;\n",
       "    }\n",
       "</style>\n",
       "<table border=\"1\" class=\"dataframe\">\n",
       "  <thead>\n",
       "    <tr style=\"text-align: right;\">\n",
       "      <th></th>\n",
       "      <th>user_id</th>\n",
       "      <th>age</th>\n",
       "      <th>gender</th>\n",
       "      <th>location</th>\n",
       "      <th>interests</th>\n",
       "      <th>ad_id</th>\n",
       "      <th>ad_category</th>\n",
       "      <th>ad_platform</th>\n",
       "      <th>ad_type</th>\n",
       "      <th>impressions</th>\n",
       "      <th>clicks</th>\n",
       "      <th>conversion</th>\n",
       "      <th>time_spent_on_ad</th>\n",
       "      <th>day_of_week</th>\n",
       "      <th>device_type</th>\n",
       "      <th>engagement_score</th>\n",
       "      <th>ctr</th>\n",
       "      <th>cvr</th>\n",
       "    </tr>\n",
       "  </thead>\n",
       "  <tbody>\n",
       "    <tr>\n",
       "      <th>0</th>\n",
       "      <td>U0001</td>\n",
       "      <td>58</td>\n",
       "      <td>M</td>\n",
       "      <td>USA</td>\n",
       "      <td>Food</td>\n",
       "      <td>A0001</td>\n",
       "      <td>Sportswear</td>\n",
       "      <td>Facebook</td>\n",
       "      <td>Image</td>\n",
       "      <td>3</td>\n",
       "      <td>0</td>\n",
       "      <td>0</td>\n",
       "      <td>3.38</td>\n",
       "      <td>Friday</td>\n",
       "      <td>Mobile</td>\n",
       "      <td>0.02</td>\n",
       "      <td>0.000000</td>\n",
       "      <td>NaN</td>\n",
       "    </tr>\n",
       "    <tr>\n",
       "      <th>1</th>\n",
       "      <td>U0002</td>\n",
       "      <td>55</td>\n",
       "      <td>F</td>\n",
       "      <td>USA</td>\n",
       "      <td>Tech</td>\n",
       "      <td>A0002</td>\n",
       "      <td>Electronics</td>\n",
       "      <td>Facebook</td>\n",
       "      <td>Image</td>\n",
       "      <td>9</td>\n",
       "      <td>9</td>\n",
       "      <td>1</td>\n",
       "      <td>6.77</td>\n",
       "      <td>Saturday</td>\n",
       "      <td>Tablet</td>\n",
       "      <td>0.93</td>\n",
       "      <td>1.000000</td>\n",
       "      <td>0.111111</td>\n",
       "    </tr>\n",
       "    <tr>\n",
       "      <th>2</th>\n",
       "      <td>U0003</td>\n",
       "      <td>52</td>\n",
       "      <td>F</td>\n",
       "      <td>UK</td>\n",
       "      <td>Gaming</td>\n",
       "      <td>A0003</td>\n",
       "      <td>Luggage</td>\n",
       "      <td>Instagram</td>\n",
       "      <td>Image</td>\n",
       "      <td>13</td>\n",
       "      <td>12</td>\n",
       "      <td>1</td>\n",
       "      <td>13.26</td>\n",
       "      <td>Wednesday</td>\n",
       "      <td>Mobile</td>\n",
       "      <td>0.93</td>\n",
       "      <td>0.923077</td>\n",
       "      <td>0.083333</td>\n",
       "    </tr>\n",
       "    <tr>\n",
       "      <th>3</th>\n",
       "      <td>U0004</td>\n",
       "      <td>31</td>\n",
       "      <td>F</td>\n",
       "      <td>USA</td>\n",
       "      <td>Tech</td>\n",
       "      <td>A0004</td>\n",
       "      <td>Gadgets</td>\n",
       "      <td>Facebook</td>\n",
       "      <td>Video</td>\n",
       "      <td>14</td>\n",
       "      <td>5</td>\n",
       "      <td>0</td>\n",
       "      <td>24.41</td>\n",
       "      <td>Saturday</td>\n",
       "      <td>Desktop</td>\n",
       "      <td>0.28</td>\n",
       "      <td>0.357143</td>\n",
       "      <td>0.000000</td>\n",
       "    </tr>\n",
       "    <tr>\n",
       "      <th>4</th>\n",
       "      <td>U0005</td>\n",
       "      <td>52</td>\n",
       "      <td>M</td>\n",
       "      <td>India</td>\n",
       "      <td>Tech</td>\n",
       "      <td>A0005</td>\n",
       "      <td>Luggage</td>\n",
       "      <td>Instagram</td>\n",
       "      <td>Carousel</td>\n",
       "      <td>10</td>\n",
       "      <td>5</td>\n",
       "      <td>0</td>\n",
       "      <td>21.43</td>\n",
       "      <td>Monday</td>\n",
       "      <td>Tablet</td>\n",
       "      <td>0.35</td>\n",
       "      <td>0.500000</td>\n",
       "      <td>0.000000</td>\n",
       "    </tr>\n",
       "  </tbody>\n",
       "</table>\n",
       "</div>"
      ],
      "text/plain": [
       "  user_id  age gender location interests  ad_id  ad_category ad_platform  \\\n",
       "0   U0001   58      M      USA      Food  A0001   Sportswear    Facebook   \n",
       "1   U0002   55      F      USA      Tech  A0002  Electronics    Facebook   \n",
       "2   U0003   52      F       UK    Gaming  A0003      Luggage   Instagram   \n",
       "3   U0004   31      F      USA      Tech  A0004      Gadgets    Facebook   \n",
       "4   U0005   52      M    India      Tech  A0005      Luggage   Instagram   \n",
       "\n",
       "    ad_type  impressions  clicks  conversion  time_spent_on_ad day_of_week  \\\n",
       "0     Image            3       0           0              3.38      Friday   \n",
       "1     Image            9       9           1              6.77    Saturday   \n",
       "2     Image           13      12           1             13.26   Wednesday   \n",
       "3     Video           14       5           0             24.41    Saturday   \n",
       "4  Carousel           10       5           0             21.43      Monday   \n",
       "\n",
       "  device_type  engagement_score       ctr       cvr  \n",
       "0      Mobile              0.02  0.000000       NaN  \n",
       "1      Tablet              0.93  1.000000  0.111111  \n",
       "2      Mobile              0.93  0.923077  0.083333  \n",
       "3     Desktop              0.28  0.357143  0.000000  \n",
       "4      Tablet              0.35  0.500000  0.000000  "
      ]
     },
     "execution_count": 21,
     "metadata": {},
     "output_type": "execute_result"
    }
   ],
   "source": [
    "train.head(5)"
   ]
  },
  {
   "cell_type": "markdown",
   "id": "499086ca",
   "metadata": {
    "papermill": {
     "duration": 0.005804,
     "end_time": "2025-08-22T03:01:16.137564",
     "exception": false,
     "start_time": "2025-08-22T03:01:16.131760",
     "status": "completed"
    },
    "tags": []
   },
   "source": [
    "# CTR -prefered ad category"
   ]
  },
  {
   "cell_type": "code",
   "execution_count": 22,
   "id": "848489f4",
   "metadata": {
    "execution": {
     "iopub.execute_input": "2025-08-22T03:01:16.151127Z",
     "iopub.status.busy": "2025-08-22T03:01:16.150878Z",
     "iopub.status.idle": "2025-08-22T03:01:16.162653Z",
     "shell.execute_reply": "2025-08-22T03:01:16.161452Z"
    },
    "papermill": {
     "duration": 0.020899,
     "end_time": "2025-08-22T03:01:16.164265",
     "exception": false,
     "start_time": "2025-08-22T03:01:16.143366",
     "status": "completed"
    },
    "tags": []
   },
   "outputs": [
    {
     "name": "stdout",
     "output_type": "stream",
     "text": [
      "  device_type  clicks  impressions        CTR\n",
      "0     Desktop     735         1413  52.016985\n",
      "1      Mobile     758         1434  52.859135\n",
      "2      Tablet     767         1294  59.273570\n"
     ]
    }
   ],
   "source": [
    "ctr_adcategory = (\n",
    "    train.groupby('ad_category')\n",
    "         .agg({'clicks': 'sum', 'impressions': 'sum'})\n",
    "         .reset_index()\n",
    ")\n",
    "\n",
    "# Compute CTR\n",
    "ctr_adcategory['CTR'] = (ctr_devicetype['clicks'] / ctr_devicetype['impressions']) * 100\n",
    "\n",
    "print(ctr_devicetype)"
   ]
  },
  {
   "cell_type": "code",
   "execution_count": 23,
   "id": "5cf482e9",
   "metadata": {
    "execution": {
     "iopub.execute_input": "2025-08-22T03:01:16.178438Z",
     "iopub.status.busy": "2025-08-22T03:01:16.177474Z",
     "iopub.status.idle": "2025-08-22T03:01:16.184660Z",
     "shell.execute_reply": "2025-08-22T03:01:16.183545Z"
    },
    "papermill": {
     "duration": 0.015837,
     "end_time": "2025-08-22T03:01:16.186259",
     "exception": false,
     "start_time": "2025-08-22T03:01:16.170422",
     "status": "completed"
    },
    "tags": []
   },
   "outputs": [],
   "source": [
    "train['day_type'] = train['day_of_week'].apply(\n",
    "    lambda x: 'Weekend' if x in ['Saturday', 'Sunday'] else 'Weekday')"
   ]
  },
  {
   "cell_type": "code",
   "execution_count": null,
   "id": "1bcee3b6",
   "metadata": {
    "papermill": {
     "duration": 0.007202,
     "end_time": "2025-08-22T03:01:16.199485",
     "exception": false,
     "start_time": "2025-08-22T03:01:16.192283",
     "status": "completed"
    },
    "tags": []
   },
   "outputs": [],
   "source": []
  }
 ],
 "metadata": {
  "kaggle": {
   "accelerator": "none",
   "dataSources": [
    {
     "datasetId": 7069559,
     "sourceId": 11304348,
     "sourceType": "datasetVersion"
    }
   ],
   "dockerImageVersionId": 31089,
   "isGpuEnabled": false,
   "isInternetEnabled": true,
   "language": "python",
   "sourceType": "notebook"
  },
  "kernelspec": {
   "display_name": "Python 3",
   "language": "python",
   "name": "python3"
  },
  "language_info": {
   "codemirror_mode": {
    "name": "ipython",
    "version": 3
   },
   "file_extension": ".py",
   "mimetype": "text/x-python",
   "name": "python",
   "nbconvert_exporter": "python",
   "pygments_lexer": "ipython3",
   "version": "3.11.13"
  },
  "papermill": {
   "default_parameters": {},
   "duration": 8.914666,
   "end_time": "2025-08-22T03:01:16.726853",
   "environment_variables": {},
   "exception": null,
   "input_path": "__notebook__.ipynb",
   "output_path": "__notebook__.ipynb",
   "parameters": {},
   "start_time": "2025-08-22T03:01:07.812187",
   "version": "2.6.0"
  }
 },
 "nbformat": 4,
 "nbformat_minor": 5
}
